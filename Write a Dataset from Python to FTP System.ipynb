{
 "cells": [
  {
   "cell_type": "markdown",
   "metadata": {},
   "source": [
    "# Write A Dataset from Python to FTP - Method 1"
   ]
  },
  {
   "cell_type": "code",
   "execution_count": null,
   "metadata": {},
   "outputs": [],
   "source": [
    "#Verify that the the address of your FTP and login information are correct by accessing the FTP then clossing the session.\n",
    "\n",
    "#First step: Import the ftp library \"ftblib\"\n",
    "import ftplib\n",
    "\n",
    "#Since we are sending the information over an explicit ftp account, the FTP_TLS module is to be used from the ftp library\n",
    "#Second step: Open a session using the 'FTP_TLS' module and login with your ftp credentials (the ftp host, username, and password)\n",
    "session = ftplib.FTP_TLS('enter ftp address, e.g, \"ftp.organization.com\"','enter ftp USERNAME', 'enter ftp PASSWORD')\n",
    "\n",
    "#Third step: Close the session\n",
    "session.quit()\n",
    "\n",
    "#Response: you should get a '221 Goodbye' response if the login credentials are corrrect.\n",
    "#NOTE: Make sure to triple check the host address, password, and username if you get an error"
   ]
  },
  {
   "cell_type": "code",
   "execution_count": null,
   "metadata": {},
   "outputs": [],
   "source": [
    "#Step 1: Import FTP_TLS module from ftplibrary\n",
    "from ftplib import FTP_TLS\n",
    "\n",
    "#Step 2: Import StringIO module which would allow us to set the file to be exported to ftp as an object\n",
    "from io import StringIO\n",
    "\n",
    "#Step 3: Enter the login credentials for ftp (the ftp host, username, and password). This would give you direct access to the root directory\n",
    "ftp = FTP_TLS('enter ftp address, e.g, \"ftp.organization.com\"','enter ftp USERNAME', 'enter ftp PASSWORD')\n",
    "\n",
    "#Step 4: Since the FTP_TLS is a prive and explicit connection, we have to setup a secure data connection. Securing the data connection requires the user to explicitly ask for it by calling the prot_p()\n",
    "ftp.prot_p()\n",
    "\n",
    "#Step 5: Specify the directory in FTP where you want your data to be stored. Basically change from the root folder and specify a cuurent working diretory \"cwd\"\n",
    "ftp.cwd('/home/file/')"
   ]
  },
  {
   "cell_type": "code",
   "execution_count": null,
   "metadata": {},
   "outputs": [],
   "source": [
    "#Step 6: You want to specify that the dataset be set as an object\n",
    "buffer = StringIO()\n",
    "\n",
    "#Step 7: Here, the dataframe \"datafile\" is set as a csv file, then an object \n",
    "datafile.to_csv(buffer)\n",
    "\n",
    "#Step 8:  take the value from the Buffer as a String\n",
    "text = buffer.getvalue()\n",
    "\n",
    "#Step 9: Write the object to a memory buffer \n",
    "bio = io.BytesIO(str.encode(text))\n",
    "\n",
    "#Step 10: Specify the name of the file to be transferred to FTP. Here, the name is \"data.csv\"\n",
    "filename = 'data.csv'\n",
    "\n",
    "#Step 11: Transfer the object file over FTP\n",
    "ftp.storbinary('STOR '+filename, open(filename, 'rb'))\n",
    "\n",
    "#You shoud get a response '226 Transfer complete'."
   ]
  },
  {
   "cell_type": "markdown",
   "metadata": {},
   "source": [
    "# Write Dataset from Python to FTP - Method 2"
   ]
  },
  {
   "cell_type": "code",
   "execution_count": null,
   "metadata": {},
   "outputs": [],
   "source": [
    "#Verify that the the address of your FTP and login information are correct by accessing the FTP then clossing the session.\n",
    "\n",
    "#First step: Import the ftp library \"ftblib\"\n",
    "import ftplib\n",
    "\n",
    "#Since we are sending the information over an explicit ftp account, the FTP_TLS module is to be used from the ftp library\n",
    "#Second step: Open a session using the 'FTP_TLS' module and login with your ftp credentials (the ftp address, username, and password)\n",
    "session = ftplib.FTP_TLS('enter ftp address, e.g, \"ftp.organization.com\"','enter ftp USERNAME', 'enter ftp PASSWORD')\n",
    "\n",
    "#Third step: Close the session\n",
    "session.quit()\n",
    "\n",
    "\n",
    "#Response: you should get a '221 Goodbye' response if the login credentials are corrrect.\n",
    "#NOTE: Make sure to triple check the password and username if you get an error"
   ]
  },
  {
   "cell_type": "code",
   "execution_count": null,
   "metadata": {},
   "outputs": [],
   "source": [
    "#Step 1: Import FTP_TLS module from ftplibrary\n",
    "from ftplib import FTP_TLS\n",
    "\n",
    "#Step 2: Specify the host name or server ip\n",
    "ftp = FTP_TLS('enter ftp address, e.g, \"ftp.organization.com\"')\n",
    "\n",
    "#Step 3: Log into the host with your ftp credentials (the username, and password)\n",
    "ftp.login(user='enter ftp USERNAME', passwd = 'enter ftp PASSWORD')\n",
    "\n",
    "#Step 4: Since the FTP_TLS is a prive and explicit connection, we have to setup a secure data connection. Securing the data connection requires the user to explicitly ask for it by calling the prot_p()\n",
    "ftp.prot_p()\n",
    "\n",
    "#Step 5: Specify the directory in FTP where you want your data to be stored. Basically change from the root folder and specify a cuurent working diretory \"cwd\"\n",
    "ftp.cwd('/home/file/')\n",
    "\n",
    "#Step 6: It is best practice to specify the variable-width character encoding as \"utf-8\"\n",
    "ftp.encoding = \"utf-8\""
   ]
  },
  {
   "cell_type": "code",
   "execution_count": null,
   "metadata": {},
   "outputs": [],
   "source": [
    "#Step 7: Show the files in the directory you specified in FTP\n",
    "ftp.dir()"
   ]
  },
  {
   "cell_type": "code",
   "execution_count": null,
   "metadata": {},
   "outputs": [],
   "source": [
    "#Step 8: Specify the name of the file to be transferred to FTP. Here the name is \"data.csv\".\n",
    "filename = 'data.csv'\n",
    "\n",
    "#Step 9: Transfer the file over FTP to the current working directory. NOTE: data.csv should be replaced with the name of the file you would like to transfer\n",
    "with open (filename, \"rb\") as file:\n",
    "    ftp.storbinary('STOR data.csv', file)\n",
    "    \n",
    "#You shoud get a response '226 Transfer complete'."
   ]
  }
 ],
 "metadata": {
  "kernelspec": {
   "display_name": "Python 3",
   "language": "python",
   "name": "python3"
  },
  "language_info": {
   "codemirror_mode": {
    "name": "ipython",
    "version": 3
   },
   "file_extension": ".py",
   "mimetype": "text/x-python",
   "name": "python",
   "nbconvert_exporter": "python",
   "pygments_lexer": "ipython3",
   "version": "3.7.6"
  }
 },
 "nbformat": 4,
 "nbformat_minor": 4
}
